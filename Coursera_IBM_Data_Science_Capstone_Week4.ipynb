{
 "cells": [
  {
   "cell_type": "markdown",
   "metadata": {},
   "source": [
    "# Applied Data Science Capstone, Week 4, Capstone Project\n",
    "# The Battle of Neighborhoods\n",
    "## Exploring Boston Neighborhoods\n",
    "*In a city of your choice, if someone is looking to open a restaurant, where would you recommend that they open it?*\n",
    "\n",
    "### Background\n",
    "In this project I would like to explore the neighborhoods of the city of Boston, MA, USA. Boston is among the most influential and wealthy cities in the United States. The city itself is home to 645 thousand people, but with the suburbs it forms Greater Boston and the population exceeds 4.5 million people. High conccentration of hi-tech companies, world's top universities, financial center, and center of medical and biotech developments positively affects the development of the region. The city looks especially attractive for small business owners knowing that it also attracts 20 millions of tourists annually (source: Wikipedia).\n",
    "\n",
    "### Description of the problem\n",
    "My main goal in this analysis is to narrow down potential locations to open a restaurant and give any other recomendations that can help to a write a business plan and increase future success.\n",
    "When choosing a location I will consider following: \n",
    "* income level of the neighborhood (who to target), \n",
    "* number of households (the size of the restaurant), \n",
    "* the number of other restaurants around (potential competition)\n",
    "* the number of other venues nearby that may drive traffic to the restaurant\n",
    "\n",
    "### About the data\n",
    "The neighborhoods households and income data has been extracted from the website of Analyze Boston, the City of Boston's open data hub at https://data.boston.gov/dataset/neighborhood-demographics, published by Department of Innovation and Technology.\n",
    "The Neighborhood boundaries data are also from the same source, published by Boston Maps, can be accessed at https://data.boston.gov/dataset/boston-neighborhoods.\n",
    "Both of the data sets are under Open Data Commons Public Domain Dedication and License (PDDL).\n",
    "\n",
    "### Tasks\n",
    "* [x] Identify the area to explore (city, region, etc.), data availability, sources, and goals\n",
    "* [x] Explore and study the data sets, decide what to import into python environment\n",
    "* [ ] Import, clean, rename columns, correct data types\n",
    "* [ ] Retrieve the coordinates of the neighborhoods\n",
    "* [ ] Retrieve Boston coordinates and create a map of its neighborhoods\n",
    "* [ ] Load neighborhoods shapefile and display median income choropleth map\n",
    "* [ ] Get nearby restaurants to the chosen location and assess competition\n",
    "* [ ] Retrieve other types of venues\n",
    "* [ ] Get experience on working with various forms of data, folium package, and foursqare API\n",
    "* [ ] Have fun and enjoy the experience"
   ]
  },
  {
   "cell_type": "code",
   "execution_count": null,
   "metadata": {},
   "outputs": [],
   "source": []
  }
 ],
 "metadata": {
  "kernelspec": {
   "display_name": "Python 3",
   "language": "python",
   "name": "python3"
  },
  "language_info": {
   "codemirror_mode": {
    "name": "ipython",
    "version": 3
   },
   "file_extension": ".py",
   "mimetype": "text/x-python",
   "name": "python",
   "nbconvert_exporter": "python",
   "pygments_lexer": "ipython3",
   "version": "3.8.3"
  }
 },
 "nbformat": 4,
 "nbformat_minor": 4
}
